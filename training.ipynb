{
 "cells": [
  {
   "cell_type": "code",
   "execution_count": 1,
   "id": "163d0401",
   "metadata": {},
   "outputs": [],
   "source": [
    "## import libraries\n",
    "import pandas as pd\n",
    "import torch\n",
    "from sklearn.model_selection import train_test_split\n",
    "from torch import nn\n",
    "import numpy as np\n",
    "import matplotlib.pyplot as plt\n",
    "from sklearn.preprocessing import MinMaxScaler\n",
    "from pathlib import Path\n",
    "import json\n",
    "import pickle\n",
    "import os"
   ]
  },
  {
   "cell_type": "code",
   "execution_count": 2,
   "id": "b2c3f7a5",
   "metadata": {},
   "outputs": [],
   "source": [
    "#set up data\n",
    "#please note that you need to download the data and keep it in the same directory to train our neural network\n",
    "#you can download the data here: https://www.kaggle.com/code/scarfsman/german-used-cars-data-cleaning-eda/output\n",
    "df = pd.read_csv('clean_data.csv', encoding=\"ISO-8859-1\")"
   ]
  },
  {
   "cell_type": "code",
   "execution_count": 3,
   "id": "eb7348ca",
   "metadata": {},
   "outputs": [],
   "source": [
    "#this will sort the cars by brand and therefore all models from a similar brand\n",
    "#will have similar results\n",
    "df = df.sort_values(by='model')"
   ]
  },
  {
   "cell_type": "code",
   "execution_count": 4,
   "id": "dee929ac",
   "metadata": {},
   "outputs": [],
   "source": [
    "#encode models with an integer label\n",
    "#this approach has the large drawback which is that the model will think that the label which is an integer\n",
    "#will have a relationship between values. This is not true, but by sorting by model, we will at least have some semblence\n",
    "#of value between consecutive cars\n",
    "#I also make a key so that we can convert car names into their labels\n",
    "df['encoded_model'] = df['model'].astype('category').cat.codes\n",
    "model_key = df[['model', 'encoded_model']].drop_duplicates().set_index('encoded_model')\n",
    "\n",
    "df['encoded_transmission'] = df['transmission_type'].astype('category').cat.codes\n",
    "transmission_key = df[['transmission_type', 'encoded_transmission']].drop_duplicates().set_index('encoded_transmission')\n",
    "\n",
    "df['encoded_fuel'] = df['fuel_type'].astype('category').cat.codes\n",
    "fuel_key = df[['fuel_type', 'encoded_fuel']].drop_duplicates().set_index('encoded_fuel')\n"
   ]
  },
  {
   "cell_type": "code",
   "execution_count": 5,
   "id": "f4fe097b",
   "metadata": {},
   "outputs": [],
   "source": [
    "#save all keys\n",
    "model_key_dict = model_key['model'].to_dict()\n",
    "\n",
    "# Save the model key as a JSON file\n",
    "with open('model_key.json', 'w') as file:\n",
    "    json.dump(model_key_dict, file)\n",
    "\n",
    "transmission_key_dict = transmission_key['transmission_type'].to_dict()\n",
    "\n",
    "# Save the model key as a JSON file\n",
    "with open('transmission_key.json', 'w') as file:\n",
    "    json.dump(transmission_key_dict, file)\n",
    "\n",
    "fuel_key_dict = fuel_key['fuel_type'].to_dict()\n",
    "\n",
    "# Save the model key as a JSON file\n",
    "with open('fuel_key.json', 'w') as file:\n",
    "    json.dump(fuel_key_dict, file)\n",
    "\n"
   ]
  },
  {
   "cell_type": "code",
   "execution_count": 7,
   "id": "2286a89f",
   "metadata": {},
   "outputs": [],
   "source": [
    "#drop data that we are not working with\n",
    "df = df.drop(columns = ['Unnamed: 0', 'brand', 'registration_date', 'power_ps', 'fuel_consumption_g_km', 'offer_description', 'model', 'color', 'fuel_consumption_l_100km', 'transmission_type', 'fuel_type', 'power_kw'], axis = 1)"
   ]
  },
  {
   "cell_type": "code",
   "execution_count": 9,
   "id": "a6e2aecf",
   "metadata": {},
   "outputs": [],
   "source": [
    "#scale columns from 0 to 1\n",
    "columns_to_scale = ['year', 'mileage_in_km']\n",
    "\n",
    "scaler = MinMaxScaler()\n",
    "scaler.fit(df[columns_to_scale])\n",
    "df[columns_to_scale] = scaler.transform(df[columns_to_scale])\n",
    "\n",
    "#save scaler data for use in user file\n",
    "with open('scaler.pkl', 'wb') as file:\n",
    "    pickle.dump(scaler, file)"
   ]
  },
  {
   "cell_type": "code",
   "execution_count": 10,
   "id": "6af14a88",
   "metadata": {},
   "outputs": [
    {
     "data": {
      "text/html": [
       "<div>\n",
       "<style scoped>\n",
       "    .dataframe tbody tr th:only-of-type {\n",
       "        vertical-align: middle;\n",
       "    }\n",
       "\n",
       "    .dataframe tbody tr th {\n",
       "        vertical-align: top;\n",
       "    }\n",
       "\n",
       "    .dataframe thead th {\n",
       "        text-align: right;\n",
       "    }\n",
       "</style>\n",
       "<table border=\"1\" class=\"dataframe\">\n",
       "  <thead>\n",
       "    <tr style=\"text-align: right;\">\n",
       "      <th></th>\n",
       "      <th>year</th>\n",
       "      <th>price_in_euro</th>\n",
       "      <th>mileage_in_km</th>\n",
       "      <th>encoded_model</th>\n",
       "      <th>encoded_transmission</th>\n",
       "      <th>encoded_fuel</th>\n",
       "    </tr>\n",
       "  </thead>\n",
       "  <tbody>\n",
       "    <tr>\n",
       "      <th>272</th>\n",
       "      <td>0.500000</td>\n",
       "      <td>5490</td>\n",
       "      <td>0.032932</td>\n",
       "      <td>0</td>\n",
       "      <td>1</td>\n",
       "      <td>8</td>\n",
       "    </tr>\n",
       "    <tr>\n",
       "      <th>133</th>\n",
       "      <td>0.357143</td>\n",
       "      <td>1490</td>\n",
       "      <td>0.061974</td>\n",
       "      <td>0</td>\n",
       "      <td>1</td>\n",
       "      <td>8</td>\n",
       "    </tr>\n",
       "    <tr>\n",
       "      <th>152</th>\n",
       "      <td>0.392857</td>\n",
       "      <td>2980</td>\n",
       "      <td>0.074749</td>\n",
       "      <td>0</td>\n",
       "      <td>1</td>\n",
       "      <td>1</td>\n",
       "    </tr>\n",
       "    <tr>\n",
       "      <th>1251</th>\n",
       "      <td>1.000000</td>\n",
       "      <td>48340</td>\n",
       "      <td>0.000013</td>\n",
       "      <td>0</td>\n",
       "      <td>0</td>\n",
       "      <td>8</td>\n",
       "    </tr>\n",
       "    <tr>\n",
       "      <th>1007</th>\n",
       "      <td>0.964286</td>\n",
       "      <td>39900</td>\n",
       "      <td>0.004868</td>\n",
       "      <td>0</td>\n",
       "      <td>0</td>\n",
       "      <td>8</td>\n",
       "    </tr>\n",
       "    <tr>\n",
       "      <th>...</th>\n",
       "      <td>...</td>\n",
       "      <td>...</td>\n",
       "      <td>...</td>\n",
       "      <td>...</td>\n",
       "      <td>...</td>\n",
       "      <td>...</td>\n",
       "    </tr>\n",
       "    <tr>\n",
       "      <th>181995</th>\n",
       "      <td>0.321429</td>\n",
       "      <td>5850</td>\n",
       "      <td>0.021316</td>\n",
       "      <td>1247</td>\n",
       "      <td>2</td>\n",
       "      <td>8</td>\n",
       "    </tr>\n",
       "    <tr>\n",
       "      <th>181989</th>\n",
       "      <td>0.285714</td>\n",
       "      <td>7999</td>\n",
       "      <td>0.032263</td>\n",
       "      <td>1247</td>\n",
       "      <td>0</td>\n",
       "      <td>8</td>\n",
       "    </tr>\n",
       "    <tr>\n",
       "      <th>181988</th>\n",
       "      <td>0.285714</td>\n",
       "      <td>4300</td>\n",
       "      <td>0.040734</td>\n",
       "      <td>1247</td>\n",
       "      <td>1</td>\n",
       "      <td>8</td>\n",
       "    </tr>\n",
       "    <tr>\n",
       "      <th>182008</th>\n",
       "      <td>0.357143</td>\n",
       "      <td>10399</td>\n",
       "      <td>0.022500</td>\n",
       "      <td>1247</td>\n",
       "      <td>0</td>\n",
       "      <td>8</td>\n",
       "    </tr>\n",
       "    <tr>\n",
       "      <th>182036</th>\n",
       "      <td>0.392857</td>\n",
       "      <td>8899</td>\n",
       "      <td>0.021053</td>\n",
       "      <td>1247</td>\n",
       "      <td>1</td>\n",
       "      <td>8</td>\n",
       "    </tr>\n",
       "  </tbody>\n",
       "</table>\n",
       "<p>224991 rows × 6 columns</p>\n",
       "</div>"
      ],
      "text/plain": [
       "            year  price_in_euro  mileage_in_km  encoded_model  \\\n",
       "272     0.500000           5490       0.032932              0   \n",
       "133     0.357143           1490       0.061974              0   \n",
       "152     0.392857           2980       0.074749              0   \n",
       "1251    1.000000          48340       0.000013              0   \n",
       "1007    0.964286          39900       0.004868              0   \n",
       "...          ...            ...            ...            ...   \n",
       "181995  0.321429           5850       0.021316           1247   \n",
       "181989  0.285714           7999       0.032263           1247   \n",
       "181988  0.285714           4300       0.040734           1247   \n",
       "182008  0.357143          10399       0.022500           1247   \n",
       "182036  0.392857           8899       0.021053           1247   \n",
       "\n",
       "        encoded_transmission  encoded_fuel  \n",
       "272                        1             8  \n",
       "133                        1             8  \n",
       "152                        1             1  \n",
       "1251                       0             8  \n",
       "1007                       0             8  \n",
       "...                      ...           ...  \n",
       "181995                     2             8  \n",
       "181989                     0             8  \n",
       "181988                     1             8  \n",
       "182008                     0             8  \n",
       "182036                     1             8  \n",
       "\n",
       "[224991 rows x 6 columns]"
      ]
     },
     "execution_count": 10,
     "metadata": {},
     "output_type": "execute_result"
    }
   ],
   "source": [
    "#view data\n",
    "df"
   ]
  },
  {
   "cell_type": "code",
   "execution_count": 11,
   "id": "96681819",
   "metadata": {},
   "outputs": [
    {
     "data": {
      "text/plain": [
       "year                    float64\n",
       "price_in_euro             int64\n",
       "mileage_in_km           float64\n",
       "encoded_model             int16\n",
       "encoded_transmission       int8\n",
       "encoded_fuel               int8\n",
       "dtype: object"
      ]
     },
     "execution_count": 11,
     "metadata": {},
     "output_type": "execute_result"
    }
   ],
   "source": [
    "df.dtypes"
   ]
  },
  {
   "cell_type": "code",
   "execution_count": 12,
   "id": "791ee359",
   "metadata": {},
   "outputs": [],
   "source": [
    "#set device for PyTorch\n",
    "device = \"cuda\" if torch.cuda.is_available() else \"cpu\""
   ]
  },
  {
   "cell_type": "code",
   "execution_count": 13,
   "id": "59fad572",
   "metadata": {},
   "outputs": [],
   "source": [
    "#create X tensor for input data and Y tensor for prices\n",
    "Y = torch.tensor(df.price_in_euro)\n",
    "\n",
    "columns_to_concat = df.drop(columns = \"price_in_euro\", axis = 1).columns\n",
    "column_values = []\n",
    "\n",
    "column_values = [torch.reshape(torch.tensor(df[column].values), (len(df),1)) for column in columns_to_concat]\n",
    "X = torch.cat([values for values in column_values], dim = 1)"
   ]
  },
  {
   "cell_type": "code",
   "execution_count": 14,
   "id": "a541eead",
   "metadata": {
    "scrolled": false
   },
   "outputs": [
    {
     "name": "stdout",
     "output_type": "stream",
     "text": [
      "torch.Size([224991])\n"
     ]
    },
    {
     "data": {
      "text/plain": [
       "torch.Size([224991, 5])"
      ]
     },
     "execution_count": 14,
     "metadata": {},
     "output_type": "execute_result"
    }
   ],
   "source": [
    "print(Y.shape)\n",
    "print(X.size())"
   ]
  },
  {
   "cell_type": "code",
   "execution_count": 15,
   "id": "f90295bc",
   "metadata": {},
   "outputs": [],
   "source": [
    "#train test split\n",
    "test_percent = 0.05\n",
    "seed = 69420\n",
    "\n",
    "X_train, X_test, Y_train, Y_test = train_test_split(X, Y, test_size = test_percent, random_state = seed)"
   ]
  },
  {
   "cell_type": "code",
   "execution_count": 16,
   "id": "4b0f6c30",
   "metadata": {},
   "outputs": [],
   "source": [
    "#create train and test dataloaders\n",
    "b = 512\n",
    "\n",
    "Y_train, Y_test = Y_train.type(torch.float32).to(device), Y_test.type(torch.float32).to(device)\n",
    "X_train, X_test = X_train.to(device).type(torch.float32), X_test.to(device).type(torch.float32)\n",
    "\n",
    "train_data = torch.utils.data.TensorDataset(X_train, Y_train)\n",
    "test_data = torch.utils.data.TensorDataset(X_test, Y_test)\n",
    "\n",
    "train_dataloader = torch.utils.data.DataLoader(train_data,\n",
    "                                               batch_size = b,\n",
    "                                               shuffle = True)\n",
    "\n",
    "test_dataloader = torch.utils.data.DataLoader(test_data,\n",
    "                                              batch_size = b,\n",
    "                                              shuffle = False)"
   ]
  },
  {
   "cell_type": "code",
   "execution_count": 18,
   "id": "2c9fa84c",
   "metadata": {},
   "outputs": [],
   "source": [
    "#create model class\n",
    "D = X_train.size(1)\n",
    "K = 1\n",
    "nodes = 2 ** 8\n",
    "\n",
    "\n",
    "class carlearner(nn.Module):\n",
    "    def __init__(self):\n",
    "        super().__init__()\n",
    "        self.input = nn.Sequential(nn.Linear(D, nodes), \n",
    "                                   nn.ReLU())\n",
    "        self.mid1 = nn.Sequential(nn.Linear(nodes, nodes), \n",
    "                                 nn.ReLU(),\n",
    "                                nn.Linear(nodes, nodes), \n",
    "                                 nn.ReLU())\n",
    "        self.mid2 = nn.Sequential(nn.Linear(nodes, nodes), \n",
    "                                  nn.ReLU(),\n",
    "                                nn.Linear(nodes, nodes), \n",
    "                                 nn.ReLU())\n",
    "        self.output = nn.Linear(nodes, K)\n",
    "    \n",
    "    def forward(self, x):\n",
    "        \n",
    "        return self.output(self.mid2(self.mid1(self.input(x)))).squeeze(-1)"
   ]
  },
  {
   "cell_type": "code",
   "execution_count": 19,
   "id": "a7218192",
   "metadata": {},
   "outputs": [],
   "source": [
    "#instance of class\n",
    "model = carlearner().to(device)"
   ]
  },
  {
   "cell_type": "code",
   "execution_count": 20,
   "id": "a578e600",
   "metadata": {},
   "outputs": [
    {
     "name": "stdout",
     "output_type": "stream",
     "text": [
      "Loading previous model\n"
     ]
    }
   ],
   "source": [
    "#load previous model data if there is any\n",
    "if os.path.exists('label_normal.pth'):\n",
    "        print(\"Loading previous model\")\n",
    "        model.load_state_dict(torch.load('label_normal.pth'))"
   ]
  },
  {
   "cell_type": "code",
   "execution_count": 21,
   "id": "cfcce88a",
   "metadata": {},
   "outputs": [],
   "source": [
    "def train_step(model: torch.nn.Module,\n",
    "               data_loader: torch.utils.data.DataLoader,\n",
    "               loss_fn: torch.nn.Module,\n",
    "               optim: torch.optim.Optimizer,\n",
    "               device: torch.device = device):\n",
    "    train_loss = 0\n",
    "    model.train()\n",
    "    for batch, (X, y) in enumerate(data_loader):\n",
    "        \n",
    "        y_pred = model(X)\n",
    "        # print(y.shape)\n",
    "        loss = loss_fn(y_pred, y)\n",
    "        #print(y_pred.shape)\n",
    "        #print(loss)\n",
    "        train_loss += loss.item()\n",
    "        \n",
    "        optim.zero_grad()\n",
    "        \n",
    "        loss.backward()\n",
    "        \n",
    "        optim.step()\n",
    "        \n",
    "        #if batch * b % 4000 == 0:\n",
    "         #   print(f\"for the {b * batch}th data entry, cumulative loss is {train_loss/(batch+1)}, {epoch}\")\n",
    "\n",
    "\n",
    "def test_step(model: torch.nn.Module,\n",
    "               data_loader: torch.utils.data.DataLoader,\n",
    "               loss_fn: torch.nn.Module,\n",
    "               epoch, \n",
    "               device: torch.device = device):\n",
    "    test_loss = 0\n",
    "    model.eval()\n",
    "    \n",
    "    with torch.inference_mode():\n",
    "        for X, y in data_loader:\n",
    "            test_pred = model(X)\n",
    "            test_loss += loss_fn(test_pred, y).item()\n",
    "    \n",
    "    test_loss /= len(data_loader)\n",
    "    print(f\"test loss = {test_loss}\", 'epoch is', epoch)\n",
    "    return test_loss"
   ]
  },
  {
   "cell_type": "code",
   "execution_count": 22,
   "id": "f8eff4c8",
   "metadata": {
    "scrolled": true
   },
   "outputs": [
    {
     "name": "stdout",
     "output_type": "stream",
     "text": [
      "test loss = 5760.024147727273 epoch is 0\n",
      "test loss = 5759.790838068182 epoch is 1\n",
      "test loss = 5759.649658203125 epoch is 2\n",
      "test loss = 5759.569358132102 epoch is 3\n",
      "test loss = 5759.484064275568 epoch is 4\n",
      "test loss = 5759.423939098011 epoch is 5\n",
      "test loss = 5759.362815163352 epoch is 6\n",
      "test loss = 5759.336558948864 epoch is 7\n",
      "test loss = 5759.376686789773 epoch is 8\n",
      "test loss = 5759.397416548295 epoch is 9\n",
      "test loss = 5759.421630859375 epoch is 10\n",
      "test loss = 5759.475763494318 epoch is 11\n",
      "test loss = 5759.493386008523 epoch is 12\n",
      "test loss = 5759.453280362216 epoch is 13\n",
      "test loss = 5759.492986505682 epoch is 14\n",
      "test loss = 5759.560546875 epoch is 15\n",
      "test loss = 5759.555442116477 epoch is 16\n",
      "test loss = 5759.492098721591 epoch is 17\n",
      "test loss = 5759.52294921875 epoch is 18\n",
      "test loss = 5759.571222478693 epoch is 19\n"
     ]
    }
   ],
   "source": [
    "#train model\n",
    "epochs = 20\n",
    "rate = .00000001\n",
    "\n",
    "loss = nn.L1Loss()\n",
    "optim = torch.optim.Adam(params = model.parameters(), lr = rate)\n",
    "array = np.zeros(epochs)\n",
    "\n",
    "for epoch in range(epochs):\n",
    "    train_step(model = model,\n",
    "               data_loader = train_dataloader,\n",
    "               loss_fn = loss,\n",
    "               optim = optim)\n",
    "    \n",
    "    array[epoch] = test_step(model = model,\n",
    "              data_loader = test_dataloader,\n",
    "              loss_fn = loss, epoch = epoch)"
   ]
  },
  {
   "cell_type": "code",
   "execution_count": 23,
   "id": "952abadb",
   "metadata": {},
   "outputs": [
    {
     "data": {
      "image/png": "[encoded data removed]",
      "text/plain": [
       "<Figure size 432x288 with 1 Axes>"
      ]
     },
     "metadata": {
      "needs_background": "light"
     },
     "output_type": "display_data"
    }
   ],
   "source": [
    "plt.scatter(range(epochs), array)\n",
    "plt.xlabel(\"Epoch\")\n",
    "plt.ylabel(\"Test loss\")\n",
    "plt.show()"
   ]
  },
  {
   "cell_type": "code",
   "execution_count": 24,
   "id": "a053944f",
   "metadata": {},
   "outputs": [
    {
     "name": "stdout",
     "output_type": "stream",
     "text": [
      "test loss = 5759.550648082386 epoch is 0\n",
      "test loss = 5759.599520596591 epoch is 1\n",
      "test loss = 5759.448752663352 epoch is 2\n",
      "test loss = 5759.548117897727 epoch is 3\n",
      "test loss = 5759.510897549716 epoch is 4\n",
      "test loss = 5759.592018821023 epoch is 5\n",
      "test loss = 5759.568714488636 epoch is 6\n",
      "test loss = 5759.605801669034 epoch is 7\n",
      "test loss = 5759.493275035511 epoch is 8\n",
      "test loss = 5759.516912286932 epoch is 9\n",
      "test loss = 5759.498779296875 epoch is 10\n",
      "test loss = 5759.528076171875 epoch is 11\n",
      "test loss = 5759.559592507102 epoch is 12\n",
      "test loss = 5759.598521839489 epoch is 13\n",
      "test loss = 5759.486949573864 epoch is 14\n",
      "test loss = 5759.560369318182 epoch is 15\n",
      "test loss = 5759.523459694602 epoch is 16\n",
      "test loss = 5759.554620916193 epoch is 17\n",
      "test loss = 5759.50312943892 epoch is 18\n",
      "test loss = 5759.569890802557 epoch is 19\n",
      "test loss = 5759.480069247159 epoch is 20\n",
      "test loss = 5759.491521661932 epoch is 21\n",
      "test loss = 5759.631658380682 epoch is 22\n",
      "test loss = 5759.551802201705 epoch is 23\n",
      "test loss = 5759.558016690341 epoch is 24\n",
      "test loss = 5759.533380681818 epoch is 25\n",
      "test loss = 5759.596502130682 epoch is 26\n",
      "test loss = 5759.562832919034 epoch is 27\n",
      "test loss = 5759.520640980114 epoch is 28\n",
      "test loss = 5759.527210582386 epoch is 29\n",
      "test loss = 5759.566361860795 epoch is 30\n",
      "test loss = 5759.567515980114 epoch is 31\n",
      "test loss = 5759.54325727983 epoch is 32\n",
      "test loss = 5759.58271928267 epoch is 33\n",
      "test loss = 5759.550137606534 epoch is 34\n",
      "test loss = 5759.539528586648 epoch is 35\n",
      "test loss = 5759.531139026989 epoch is 36\n",
      "test loss = 5759.533558238636 epoch is 37\n",
      "test loss = 5759.511740944602 epoch is 38\n",
      "test loss = 5759.577037464489 epoch is 39\n",
      "test loss = 5759.600341796875 epoch is 40\n",
      "test loss = 5759.661576704545 epoch is 41\n",
      "test loss = 5759.552601207386 epoch is 42\n",
      "test loss = 5759.59355024858 epoch is 43\n",
      "test loss = 5759.604536576705 epoch is 44\n",
      "test loss = 5759.596280184659 epoch is 45\n",
      "test loss = 5759.614612926136 epoch is 46\n",
      "test loss = 5759.55244584517 epoch is 47\n",
      "test loss = 5759.56181196733 epoch is 48\n",
      "test loss = 5759.496826171875 epoch is 49\n"
     ]
    }
   ],
   "source": [
    "#retrain less learning rate and longer\n",
    "epochs = 50\n",
    "rate = 0.00000001\n",
    "\n",
    "loss = nn.L1Loss()\n",
    "optim = torch.optim.Adam(params = model.parameters(), lr = rate)\n",
    "array = np.zeros(epochs)\n",
    "\n",
    "for epoch in range(epochs):\n",
    "    train_step(model = model,\n",
    "               data_loader = train_dataloader,\n",
    "               loss_fn = loss,\n",
    "               optim = optim)\n",
    "    \n",
    "    array[epoch] = test_step(model = model,\n",
    "              data_loader = test_dataloader,\n",
    "              loss_fn = loss, epoch = epoch)"
   ]
  },
  {
   "cell_type": "code",
   "execution_count": 25,
   "id": "1ede30d3",
   "metadata": {},
   "outputs": [
    {
     "data": {
      "image/png": "[encoded data removed]",
      "text/plain": [
       "<Figure size 432x288 with 1 Axes>"
      ]
     },
     "metadata": {
      "needs_background": "light"
     },
     "output_type": "display_data"
    }
   ],
   "source": [
    "plt.scatter(range(epochs), array)\n",
    "plt.xlabel(\"Epoch\")\n",
    "plt.ylabel(\"Test loss\")\n",
    "plt.show()"
   ]
  },
  {
   "cell_type": "code",
   "execution_count": 26,
   "id": "0ddb1885",
   "metadata": {},
   "outputs": [],
   "source": [
    "torch.save(model.state_dict(), 'label_normal.pth')"
   ]
  },
  {
   "cell_type": "markdown",
   "id": "3fc8b35e",
   "metadata": {},
   "source": [
    "We are now done with training our model. The below code is just for testing purposes"
   ]
  },
  {
   "cell_type": "code",
   "execution_count": 27,
   "id": "69eb1ca1",
   "metadata": {},
   "outputs": [],
   "source": [
    "def price(car,\n",
    "         trans,\n",
    "         fuel,\n",
    "         year,\n",
    "         mile):\n",
    "    em = model_key.loc[model_key['model'] == car]\n",
    "    em = em.index[0]\n",
    "    \n",
    "    et = transmission_key.loc[transmission_key['transmission_type'] == trans]\n",
    "    et = et.index[0]\n",
    "    \n",
    "    ef = fuel_key.loc[fuel_key['fuel_type'] == fuel]\n",
    "    ef = ef.index[0]\n",
    "    YM = scaler.transform(np.array((year, mile)).reshape(1, -1))\n",
    "    year = YM[0, 0]\n",
    "    print(year)\n",
    "    mile = YM[0, 1]\n",
    "    test = torch.tensor([year, mile, em, et, ef])\n",
    "    return model(test.to(device).type(torch.float32)) * 0.88\n",
    "    \n",
    "\n",
    "def plotyear(car: str,\n",
    "               trans: str,\n",
    "               fuel: str,\n",
    "               mile,\n",
    "               year1 = 2005,\n",
    "               year2 = 2023):\n",
    "    em = model_key.loc[model_key['model'] == car]\n",
    "    em = em.index[0]\n",
    "    \n",
    "    et = transmission_key.loc[transmission_key['transmission_type'] == trans]\n",
    "    et = et.index[0]\n",
    "    \n",
    "    ef = fuel_key.loc[fuel_key['fuel_type'] == fuel]\n",
    "    ef = ef.index[0]\n",
    "    \n",
    "    array = np.zeros(year2 - year1 + 1)\n",
    "    \n",
    "    for i in range(year1, year2 + 1):\n",
    "        YM = scaler.transform(np.array((i, mile)).reshape(1,-1))\n",
    "        i1 = YM[0, 0]\n",
    "        mile = YM[0, 1]\n",
    "        test = torch.tensor([i1, mile, em, et, ef])\n",
    "        price = model(test.to(device).type(torch.float32)) * 0.88\n",
    "        #print(i, price)\n",
    "        array[i - year1] = price\n",
    "    \n",
    "    x = np.linspace(year1, year2, year2 - year1 + 1)\n",
    "    plt.scatter(x, array)"
   ]
  },
  {
   "cell_type": "code",
   "execution_count": 28,
   "id": "efba664c",
   "metadata": {},
   "outputs": [
    {
     "name": "stdout",
     "output_type": "stream",
     "text": [
      "0.6428571428571388\n"
     ]
    },
    {
     "name": "stderr",
     "output_type": "stream",
     "text": [
      "C:\\ProgramData\\Anaconda3\\lib\\site-packages\\sklearn\\base.py:450: UserWarning: X does not have valid feature names, but MinMaxScaler was fitted with feature names\n",
      "  warnings.warn(\n"
     ]
    },
    {
     "data": {
      "text/plain": [
       "tensor(237626.5156, device='cuda:0', grad_fn=<MulBackward0>)"
      ]
     },
     "execution_count": 28,
     "metadata": {},
     "output_type": "execute_result"
    }
   ],
   "source": [
    "#year1 = 2006\n",
    "#year2 = 2023\n",
    "\n",
    "carmodel = 'Ferrari 458'\n",
    "cartrans = 'Automatic'\n",
    "carfuel = 'Petrol'\n",
    "caryear = 2013\n",
    "#carpower =  100#bhp\n",
    "#carpower *= 0.7457\n",
    "carmile = 10 * 1000\n",
    "price(carmodel, cartrans, carfuel, caryear, carmile)"
   ]
  },
  {
   "cell_type": "code",
   "execution_count": 29,
   "id": "00809902",
   "metadata": {},
   "outputs": [
    {
     "name": "stderr",
     "output_type": "stream",
     "text": [
      "C:\\ProgramData\\Anaconda3\\lib\\site-packages\\sklearn\\base.py:450: UserWarning: X does not have valid feature names, but MinMaxScaler was fitted with feature names\n",
      "  warnings.warn(\n",
      "C:\\ProgramData\\Anaconda3\\lib\\site-packages\\sklearn\\base.py:450: UserWarning: X does not have valid feature names, but MinMaxScaler was fitted with feature names\n",
      "  warnings.warn(\n",
      "C:\\ProgramData\\Anaconda3\\lib\\site-packages\\sklearn\\base.py:450: UserWarning: X does not have valid feature names, but MinMaxScaler was fitted with feature names\n",
      "  warnings.warn(\n",
      "C:\\ProgramData\\Anaconda3\\lib\\site-packages\\sklearn\\base.py:450: UserWarning: X does not have valid feature names, but MinMaxScaler was fitted with feature names\n",
      "  warnings.warn(\n",
      "C:\\ProgramData\\Anaconda3\\lib\\site-packages\\sklearn\\base.py:450: UserWarning: X does not have valid feature names, but MinMaxScaler was fitted with feature names\n",
      "  warnings.warn(\n",
      "C:\\ProgramData\\Anaconda3\\lib\\site-packages\\sklearn\\base.py:450: UserWarning: X does not have valid feature names, but MinMaxScaler was fitted with feature names\n",
      "  warnings.warn(\n",
      "C:\\ProgramData\\Anaconda3\\lib\\site-packages\\sklearn\\base.py:450: UserWarning: X does not have valid feature names, but MinMaxScaler was fitted with feature names\n",
      "  warnings.warn(\n",
      "C:\\ProgramData\\Anaconda3\\lib\\site-packages\\sklearn\\base.py:450: UserWarning: X does not have valid feature names, but MinMaxScaler was fitted with feature names\n",
      "  warnings.warn(\n",
      "C:\\ProgramData\\Anaconda3\\lib\\site-packages\\sklearn\\base.py:450: UserWarning: X does not have valid feature names, but MinMaxScaler was fitted with feature names\n",
      "  warnings.warn(\n",
      "C:\\ProgramData\\Anaconda3\\lib\\site-packages\\sklearn\\base.py:450: UserWarning: X does not have valid feature names, but MinMaxScaler was fitted with feature names\n",
      "  warnings.warn(\n",
      "C:\\ProgramData\\Anaconda3\\lib\\site-packages\\sklearn\\base.py:450: UserWarning: X does not have valid feature names, but MinMaxScaler was fitted with feature names\n",
      "  warnings.warn(\n",
      "C:\\ProgramData\\Anaconda3\\lib\\site-packages\\sklearn\\base.py:450: UserWarning: X does not have valid feature names, but MinMaxScaler was fitted with feature names\n",
      "  warnings.warn(\n",
      "C:\\ProgramData\\Anaconda3\\lib\\site-packages\\sklearn\\base.py:450: UserWarning: X does not have valid feature names, but MinMaxScaler was fitted with feature names\n",
      "  warnings.warn(\n",
      "C:\\ProgramData\\Anaconda3\\lib\\site-packages\\sklearn\\base.py:450: UserWarning: X does not have valid feature names, but MinMaxScaler was fitted with feature names\n",
      "  warnings.warn(\n",
      "C:\\ProgramData\\Anaconda3\\lib\\site-packages\\sklearn\\base.py:450: UserWarning: X does not have valid feature names, but MinMaxScaler was fitted with feature names\n",
      "  warnings.warn(\n",
      "C:\\ProgramData\\Anaconda3\\lib\\site-packages\\sklearn\\base.py:450: UserWarning: X does not have valid feature names, but MinMaxScaler was fitted with feature names\n",
      "  warnings.warn(\n",
      "C:\\ProgramData\\Anaconda3\\lib\\site-packages\\sklearn\\base.py:450: UserWarning: X does not have valid feature names, but MinMaxScaler was fitted with feature names\n",
      "  warnings.warn(\n",
      "C:\\ProgramData\\Anaconda3\\lib\\site-packages\\sklearn\\base.py:450: UserWarning: X does not have valid feature names, but MinMaxScaler was fitted with feature names\n",
      "  warnings.warn(\n",
      "C:\\ProgramData\\Anaconda3\\lib\\site-packages\\sklearn\\base.py:450: UserWarning: X does not have valid feature names, but MinMaxScaler was fitted with feature names\n",
      "  warnings.warn(\n"
     ]
    },
    {
     "data": {
      "image/png": "[encoded data removed]",
      "text/plain": [
       "<Figure size 432x288 with 1 Axes>"
      ]
     },
     "metadata": {
      "needs_background": "light"
     },
     "output_type": "display_data"
    }
   ],
   "source": [
    "plotyear(carmodel, cartrans, carfuel, carmile)"
   ]
  }
 ],
 "metadata": {
  "kernelspec": {
   "display_name": "Python 3 (ipykernel)",
   "language": "python",
   "name": "python3"
  },
  "language_info": {
   "codemirror_mode": {
    "name": "ipython",
    "version": 3
   },
   "file_extension": ".py",
   "mimetype": "text/x-python",
   "name": "python",
   "nbconvert_exporter": "python",
   "pygments_lexer": "ipython3",
   "version": "3.9.12"
  }
 },
 "nbformat": 4,
 "nbformat_minor": 5
}
