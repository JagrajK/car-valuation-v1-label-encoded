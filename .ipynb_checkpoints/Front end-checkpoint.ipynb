{
 "cells": [
  {
   "cell_type": "code",
   "execution_count": 1,
   "id": "5038d78f",
   "metadata": {},
   "outputs": [
    {
     "name": "stdout",
     "output_type": "stream",
     "text": [
      "        Unnamed: 0  brand                    model   color registration_date  \\\n",
      "251069      251069  volvo  Volvo V90 Cross Country  silver           03/2023   \n",
      "251070      251070  volvo  Volvo V90 Cross Country  silver           01/2023   \n",
      "251071      251071  volvo               Volvo XC60  silver           04/2023   \n",
      "251072      251072  volvo               Volvo XC60  silver           05/2023   \n",
      "251073      251073  volvo               Volvo XC60  silver           03/2023   \n",
      "251074      251074  volvo               Volvo XC40   white           04/2023   \n",
      "251075      251075  volvo               Volvo XC90   white           03/2023   \n",
      "251076      251076  volvo                Volvo V60   white           05/2023   \n",
      "251077      251077  volvo               Volvo XC40   white           05/2023   \n",
      "251078      251078  volvo               Volvo XC40    gold           03/2023   \n",
      "\n",
      "        year price_in_euro power_kw power_ps transmission_type fuel_type  \\\n",
      "251069  2023         77900      173      235         Automatic    Diesel   \n",
      "251070  2023         65422      145      197         Automatic    Diesel   \n",
      "251071  2023         81350      228      310         Automatic    Hybrid   \n",
      "251072  2023         55400      145      197         Automatic    Diesel   \n",
      "251073  2023         54500      145      197         Automatic    Diesel   \n",
      "251074  2023         57990      192      261         Automatic    Hybrid   \n",
      "251075  2023         89690      173      235         Automatic    Diesel   \n",
      "251076  2023         61521      145      197         Automatic    Diesel   \n",
      "251077  2023         57890      132      179         Automatic    Hybrid   \n",
      "251078  2023         52900      160      218         Automatic  Electric   \n",
      "\n",
      "       fuel_consumption_l_100km fuel_consumption_g_km  mileage_in_km  \\\n",
      "251069             5,5 l/100 km              144 g/km         2500.0   \n",
      "251070             6,5 l/100 km              170 g/km         1506.0   \n",
      "251071             7,4 l/100 km              167 g/km           60.0   \n",
      "251072             5,6 l/100 km              142 g/km         5000.0   \n",
      "251073             5,6 l/100 km              142 g/km         5900.0   \n",
      "251074                      NaN      43 km Reichweite         1229.0   \n",
      "251075             7,6 l/100 km              202 g/km         4900.0   \n",
      "251076             4,7 l/100 km              125 g/km         1531.0   \n",
      "251077                      NaN      45 km Reichweite         1500.0   \n",
      "251078                      NaN     438 km Reichweite           50.0   \n",
      "\n",
      "                                        offer_description  \n",
      "251069                       B5 D AWD Geartronic ULTIMATE  \n",
      "251070                     B4 DIESEL PLUS AWD MY23 SELEKT  \n",
      "251071  XC 60 T8 AWD Ultimate Dark PHEV NAVI,AHK,STHZ,...  \n",
      "251072    B4 Autom. Plus Dark  Keyless-Start/Klima/LED/BC  \n",
      "251073                      B4 Autom. Plus Dark  Sitzhzg.  \n",
      "251074  Plus Bright T5 Recharge Intellisafe*Surround+P...  \n",
      "251075  B5 AWD Diesel Ultimate Dark 7-Sitzer Massage F...  \n",
      "251076            B4 D Plus Dark 145 kW, 5-türig (Diesel)  \n",
      "251077        T5 Recharge Plus Dark *Standh*360°*beh.Lenk  \n",
      "251078               Ultimate Recharge Twin Motor AHK GJR  \n"
     ]
    }
   ],
   "source": [
    "## import libraries\n",
    "import pandas as pd\n",
    "import torch\n",
    "\n",
    "##set up data\n",
    "df = pd.read_csv(r\"C:\\Users\\Jagraj\\Python\\pytorch, im that guy pal\\datasets\\german car data.csv\")\n",
    "\n",
    "print(df.tail(10))"
   ]
  }
 ],
 "metadata": {
  "kernelspec": {
   "display_name": "Python 3 (ipykernel)",
   "language": "python",
   "name": "python3"
  },
  "language_info": {
   "codemirror_mode": {
    "name": "ipython",
    "version": 3
   },
   "file_extension": ".py",
   "mimetype": "text/x-python",
   "name": "python",
   "nbconvert_exporter": "python",
   "pygments_lexer": "ipython3",
   "version": "3.9.12"
  }
 },
 "nbformat": 4,
 "nbformat_minor": 5
}
