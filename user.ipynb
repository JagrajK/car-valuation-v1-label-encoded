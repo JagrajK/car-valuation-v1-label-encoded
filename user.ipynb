{
 "cells": [
  {
   "cell_type": "code",
   "execution_count": 1,
   "id": "3b77381e",
   "metadata": {},
   "outputs": [],
   "source": [
    "## import libraries\n",
    "import pandas as pd\n",
    "import torch\n",
    "from sklearn.model_selection import train_test_split\n",
    "from torch import nn\n",
    "import numpy as np\n",
    "import matplotlib.pyplot as plt\n",
    "from sklearn.preprocessing import MinMaxScaler\n",
    "from pathlib import Path\n",
    "import json\n",
    "import pickle\n",
    "import os\n",
    "import sys"
   ]
  },
  {
   "cell_type": "code",
   "execution_count": 2,
   "id": "a2b31d96",
   "metadata": {},
   "outputs": [],
   "source": [
    "#set device for pytorch\n",
    "device = \"cuda\" if torch.cuda.is_available() else \"cpu\""
   ]
  },
  {
   "cell_type": "code",
   "execution_count": 3,
   "id": "a21030d1",
   "metadata": {},
   "outputs": [],
   "source": [
    "#same class as from training\n",
    "D = 5\n",
    "K = 1\n",
    "nodes = 2 ** 8\n",
    "\n",
    "class carlearner(nn.Module):\n",
    "    def __init__(self):\n",
    "        super().__init__()\n",
    "        self.input = nn.Sequential(nn.Linear(D, nodes), \n",
    "                                   nn.ReLU())\n",
    "        self.mid1 = nn.Sequential(nn.Linear(nodes, nodes), \n",
    "                                 nn.ReLU(),\n",
    "                                nn.Linear(nodes, nodes), \n",
    "                                 nn.ReLU())\n",
    "        self.mid2 = nn.Sequential(nn.Linear(nodes, nodes), \n",
    "                                  nn.ReLU(),\n",
    "                                nn.Linear(nodes, nodes), \n",
    "                                 nn.ReLU())\n",
    "        self.output = nn.Linear(nodes, K)\n",
    "    \n",
    "    def forward(self, x):\n",
    "        \n",
    "        return self.output(self.mid2(self.mid1(self.input(x)))).squeeze(-1)"
   ]
  },
  {
   "cell_type": "code",
   "execution_count": 4,
   "id": "dec9f6db",
   "metadata": {},
   "outputs": [],
   "source": [
    "#instance of class\n",
    "model = carlearner().to(device)"
   ]
  },
  {
   "cell_type": "code",
   "execution_count": 5,
   "id": "8ba3edd9",
   "metadata": {},
   "outputs": [
    {
     "name": "stdout",
     "output_type": "stream",
     "text": [
      "Loading model\n"
     ]
    }
   ],
   "source": [
    "#load model parameters\n",
    "if os.path.exists('label_normal.pth'):\n",
    "        print(\"Loading model\")\n",
    "        model.load_state_dict(torch.load('label_normal.pth'))\n",
    "else:\n",
    "    print(\"No model, please run training notebook.\")"
   ]
  },
  {
   "cell_type": "code",
   "execution_count": 6,
   "id": "26f74e6f",
   "metadata": {},
   "outputs": [],
   "source": [
    "with open('model_key.json', 'r') as file:\n",
    "    model_key_dict = json.load(file)\n",
    "with open('transmission_key.json', 'r') as file:\n",
    "    transmission_key_dict = json.load(file)\n",
    "with open('fuel_key.json', 'r') as file:\n",
    "    fuel_key_dict = json.load(file)"
   ]
  },
  {
   "cell_type": "code",
   "execution_count": 7,
   "id": "fda8357f",
   "metadata": {},
   "outputs": [],
   "source": [
    "model_key = pd.DataFrame(list(model_key_dict.items()), columns=['encoded_model', 'model'])\n",
    "\n",
    "transmission_key = pd.DataFrame(list(transmission_key_dict.items()), columns=['encoded_transmission', 'transmission_type'])\n",
    "\n",
    "fuel_key = pd.DataFrame(list(fuel_key_dict.items()), columns=['encoded_fuel', 'fuel_type'])"
   ]
  },
  {
   "cell_type": "code",
   "execution_count": 8,
   "id": "cf7f3109",
   "metadata": {},
   "outputs": [],
   "source": [
    "with open('scaler.pkl', 'rb') as file:\n",
    "    scaler = pickle.load(file)"
   ]
  },
  {
   "cell_type": "code",
   "execution_count": 9,
   "id": "2cee216e",
   "metadata": {},
   "outputs": [],
   "source": [
    "def price(car,\n",
    "         trans,\n",
    "         fuel,\n",
    "         year,\n",
    "         mile):\n",
    "    em = model_key.loc[model_key['model'] == car]\n",
    "    em = em.index[0]\n",
    "    \n",
    "    et = transmission_key.loc[transmission_key['transmission_type'] == trans]\n",
    "    et = et.index[0]\n",
    "    \n",
    "    ef = fuel_key.loc[fuel_key['fuel_type'] == fuel]\n",
    "    ef = ef.index[0]\n",
    "    YM = scaler.transform(np.array((year, mile)).reshape(1, -1))\n",
    "    year = YM[0, 0]\n",
    "    #print(year)\n",
    "    mile = YM[0, 1]\n",
    "    test = torch.tensor([year, mile, em, et, ef])\n",
    "    return model(test.to(device).type(torch.float32)) * 0.88\n",
    "\n",
    "def plotyear(car: str,\n",
    "               trans: str,\n",
    "               fuel: str,\n",
    "               mile,\n",
    "               year1 = 2005,\n",
    "               year2 = 2023):\n",
    "    em = model_key.loc[model_key['model'] == car]\n",
    "    em = em.index[0]\n",
    "    \n",
    "    et = transmission_key.loc[transmission_key['transmission_type'] == trans]\n",
    "    et = et.index[0]\n",
    "    \n",
    "    ef = fuel_key.loc[fuel_key['fuel_type'] == fuel]\n",
    "    ef = ef.index[0]\n",
    "    \n",
    "    array = np.zeros(year2 - year1 + 1)\n",
    "    \n",
    "    for i in range(year1, year2 + 1):\n",
    "        YM = scaler.transform(np.array((i, mile)).reshape(1,-1))\n",
    "        i1 = YM[0, 0]\n",
    "        mile = YM[0, 1]\n",
    "        test = torch.tensor([i1, mile, em, et, ef])\n",
    "        price = model(test.to(device).type(torch.float32)) * 0.88\n",
    "        #print(i, price)\n",
    "        array[i - year1] = price\n",
    "    \n",
    "    x = np.linspace(year1, year2, year2 - year1 + 1)\n",
    "    plt.scatter(x, array)"
   ]
  },
  {
   "cell_type": "code",
   "execution_count": 10,
   "id": "fb96b6f5",
   "metadata": {},
   "outputs": [
    {
     "name": "stdout",
     "output_type": "stream",
     "text": [
      "Please enter a car model: Dacia Sandero\n",
      "Please enter the transmission type: Manual\n",
      "Please enter the fuel type: Petrol\n",
      "Please enter the registration year: 2019\n",
      "Please enter the mileage: 120000\n"
     ]
    },
    {
     "name": "stderr",
     "output_type": "stream",
     "text": [
      "C:\\ProgramData\\Anaconda3\\lib\\site-packages\\sklearn\\base.py:450: UserWarning: X does not have valid feature names, but MinMaxScaler was fitted with feature names\n",
      "  warnings.warn(\n"
     ]
    },
    {
     "data": {
      "text/plain": [
       "tensor(13369.4648, device='cuda:0', grad_fn=<MulBackward0>)"
      ]
     },
     "execution_count": 10,
     "metadata": {},
     "output_type": "execute_result"
    }
   ],
   "source": [
    "carmodel = str(input(\"Please enter a car model: \")).title()\n",
    "try:\n",
    "    model_key.loc[model_key['model'] == carmodel].index[0]\n",
    "except:\n",
    "    print(\"We couldn't find that car.\")\n",
    "    sys.exit(1)\n",
    "\n",
    "\n",
    "cartrans = str(input(\"Please enter the transmission type: \")).title()\n",
    "try:\n",
    "    transmission_key.loc[transmission_key['transmission_type'] == cartrans].index[0]\n",
    "except:\n",
    "    print(\"We couldn't find that.\")\n",
    "    sys.exit(1)\n",
    "\n",
    "\n",
    "carfuel = str(input(\"Please enter the fuel type: \")).title()\n",
    "try:\n",
    "    fuel_key.loc[fuel_key['fuel_type'] == carfuel].index[0]\n",
    "except:\n",
    "    print(\"We couldn't find that.\")\n",
    "    sys.exit(1)\n",
    "\n",
    "\n",
    "caryear = int(input(\"Please enter the registration year: \"))\n",
    "\n",
    "\n",
    "carmile = int(input(\"Please enter the mileage: \"))\n",
    "\n",
    "price(carmodel, cartrans, carfuel, caryear, carmile)"
   ]
  }
 ],
 "metadata": {
  "kernelspec": {
   "display_name": "Python 3 (ipykernel)",
   "language": "python",
   "name": "python3"
  },
  "language_info": {
   "codemirror_mode": {
    "name": "ipython",
    "version": 3
   },
   "file_extension": ".py",
   "mimetype": "text/x-python",
   "name": "python",
   "nbconvert_exporter": "python",
   "pygments_lexer": "ipython3",
   "version": "3.9.12"
  }
 },
 "nbformat": 4,
 "nbformat_minor": 5
}
